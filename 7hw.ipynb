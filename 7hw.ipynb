{
 "cells": [
  {
   "cell_type": "markdown",
   "id": "873685bc-8ea6-40f9-aa55-9a41b8e710cb",
   "metadata": {},
   "source": [
    "### Задача 1: Модуль для обработки строк"
   ]
  },
  {
   "cell_type": "code",
   "execution_count": 2,
   "id": "465f411e-0074-4d4b-82ea-1f17c2858a7d",
   "metadata": {},
   "outputs": [
    {
     "name": "stdout",
     "output_type": "stream",
     "text": [
      "9\n",
      "!рим тевирП\n",
      "True\n",
      "Hello World\n"
     ]
    }
   ],
   "source": [
    "import string_operations as so\n",
    "\n",
    "#1\n",
    "text = \"Добро пожаловать в Казахстан!\"\n",
    "print(so.count_vowels(text))\n",
    "\n",
    "#2\n",
    "text2 = \"Привет мир!\"\n",
    "print(so.reverse_string(text2))\n",
    "\n",
    "#3\n",
    "text3 = \"казак\"\n",
    "print(so.is_palindrome(text3))\n",
    "\n",
    "#4\n",
    "text4 = \"hello world\"\n",
    "print(so.capitalize_string(text4))"
   ]
  },
  {
   "cell_type": "markdown",
   "id": "bee75698-bb17-46cb-90bd-a28491852131",
   "metadata": {},
   "source": [
    "### Задача 2: Класс Точка"
   ]
  },
  {
   "cell_type": "code",
   "execution_count": 4,
   "id": "73bf5c07-e5fb-4480-806c-9fe484f0b7d5",
   "metadata": {},
   "outputs": [
    {
     "name": "stdout",
     "output_type": "stream",
     "text": [
      "3.605551275463989\n"
     ]
    }
   ],
   "source": [
    "class Point:\n",
    "    def __init__(self, x, y):\n",
    "        self.x = x\n",
    "        self.y = y\n",
    "\n",
    "    def distance_to_origin(self):\n",
    "        return (self.x ** 2 + self.y ** 2) ** (1 / 2)\n",
    "\n",
    "point = Point(2, 3)\n",
    "print(point.distance_to_origin())"
   ]
  },
  {
   "cell_type": "markdown",
   "id": "652df54b-3b04-4fb3-8004-75f8e0fac654",
   "metadata": {},
   "source": [
    "### Задача 3: Модуль конвертации единиц"
   ]
  },
  {
   "cell_type": "code",
   "execution_count": 12,
   "id": "0aee6b15-27e7-4330-9310-6f8d20045821",
   "metadata": {},
   "outputs": [
    {
     "name": "stdout",
     "output_type": "stream",
     "text": [
      "74.56452\n",
      "77.0\n",
      "5.811784\n"
     ]
    }
   ],
   "source": [
    "import unit_converters as uc\n",
    "\n",
    "value = 120\n",
    "print(uc.km_to_miles(value))\n",
    "\n",
    "value2 = 25\n",
    "print(uc.celsius_to_fahrenheit(value2))\n",
    "\n",
    "value3 = 22\n",
    "print(uc.liters_to_gallons(value3))"
   ]
  },
  {
   "cell_type": "markdown",
   "id": "770078af-c6c8-4770-81c5-b0eb13139954",
   "metadata": {},
   "source": [
    "### Задача 4: Класс Книга"
   ]
  },
  {
   "cell_type": "code",
   "execution_count": 17,
   "id": "3f2ec261-dab8-40f8-8403-1810fd690596",
   "metadata": {},
   "outputs": [
    {
     "name": "stdout",
     "output_type": "stream",
     "text": [
      "Книга Абай жолы автора Мухтар Ауэзов, 1006 стр.\n",
      "Это объемная книга? True\n"
     ]
    }
   ],
   "source": [
    "class Book:\n",
    "    def __init__(self, title, author, pages):\n",
    "        self.title = title\n",
    "        self.author = author\n",
    "        self.pages = pages\n",
    "\n",
    "    def __str__(self):\n",
    "        return f'Книга {self.title} автора {self.author}, {self.pages} стр.'\n",
    "\n",
    "    def is_long(self):\n",
    "        return self.pages > 500\n",
    "\n",
    "my_book = Book('Абай жолы', 'Мухтар Ауэзов', 1006)\n",
    "print(my_book)\n",
    "print('Это объемная книга?', my_book.is_long())"
   ]
  },
  {
   "cell_type": "markdown",
   "id": "70d6a9ce-1e77-4a9e-8ac7-feb86a99a995",
   "metadata": {},
   "source": [
    "###  Задача 5: Класс \"Студент\""
   ]
  },
  {
   "cell_type": "code",
   "execution_count": 27,
   "id": "d30d7616-3da6-4c3c-8f7a-a51fcacbc6d9",
   "metadata": {},
   "outputs": [
    {
     "name": "stdout",
     "output_type": "stream",
     "text": [
      "Средний балл Айбек: 84.0\n"
     ]
    }
   ],
   "source": [
    "class Student:\n",
    "    def __init__(self, name):\n",
    "        self.name = name\n",
    "        self.grades = []\n",
    "\n",
    "    def add_grade(self, grade):\n",
    "        if 0 <= grade <= 100:\n",
    "            self.grades.append(grade)\n",
    "        else:\n",
    "            print('None')\n",
    "\n",
    "    def get_average(self):\n",
    "        if self.grades:\n",
    "            return sum(self.grades) / len(self.grades)\n",
    "        else:\n",
    "            return None\n",
    "\n",
    "student = Student(\"Айбек\")\n",
    "student.add_grade(85)\n",
    "student.add_grade(90)\n",
    "student.add_grade(77)\n",
    "\n",
    "print(f\"Средний балл {student.name}: {student.get_average()}\")"
   ]
  },
  {
   "cell_type": "code",
   "execution_count": null,
   "id": "246c1b59-7437-4514-82ee-43e6c1742233",
   "metadata": {},
   "outputs": [],
   "source": []
  }
 ],
 "metadata": {
  "kernelspec": {
   "display_name": "Python [conda env:base] *",
   "language": "python",
   "name": "conda-base-py"
  },
  "language_info": {
   "codemirror_mode": {
    "name": "ipython",
    "version": 3
   },
   "file_extension": ".py",
   "mimetype": "text/x-python",
   "name": "python",
   "nbconvert_exporter": "python",
   "pygments_lexer": "ipython3",
   "version": "3.12.7"
  }
 },
 "nbformat": 4,
 "nbformat_minor": 5
}
